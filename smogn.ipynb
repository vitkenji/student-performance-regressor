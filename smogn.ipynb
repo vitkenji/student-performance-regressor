{
 "cells": [
  {
   "cell_type": "code",
   "execution_count": 2,
   "id": "72bbf3aa-179e-49b8-9180-75176c88376e",
   "metadata": {},
   "outputs": [],
   "source": [
    "import pandas as pd\n",
    "import smogn "
   ]
  },
  {
   "cell_type": "code",
   "execution_count": 3,
   "id": "c9ff24bc-c7d3-470f-b14b-4e2d40804eb6",
   "metadata": {},
   "outputs": [
    {
     "name": "stderr",
     "output_type": "stream",
     "text": [
      "dist_matrix: 100%|##############################| 65/65 [00:01<00:00, 34.22it/s]\n",
      "synth_matrix: 100%|#############################| 65/65 [00:01<00:00, 39.50it/s]"
     ]
    },
    {
     "name": "stdout",
     "output_type": "stream",
     "text": [
      "   age_failure_interaction  academic_commitment  higher  \\\n",
      "1                     17.0                 11.8     1.0   \n",
      "2                     15.0                 11.4     1.0   \n",
      "3                     15.0                 14.0     1.0   \n",
      "4                     16.0                 12.0     1.0   \n",
      "5                     16.0                 11.4     1.0   \n",
      "\n",
      "   socioeconomic_advantage  studytime_normalized  parents_avg_edu  Medu  \\\n",
      "1                      6.0              0.083588              1.0   1.0   \n",
      "2                      6.0              0.083588              1.0   1.0   \n",
      "3                      8.0              1.289120              3.0   4.0   \n",
      "4                      6.0              0.083588              3.0   3.0   \n",
      "5                      8.5              0.083588              3.5   4.0   \n",
      "\n",
      "   behavioral_risk  Fedu  Dalc  ...  wellbeing_score  health_issues  guardian  \\\n",
      "1              0.0   1.0   1.0  ...            11.75            0.0       0.0   \n",
      "2              0.0   1.0   2.0  ...             8.75            0.0       1.0   \n",
      "3              1.0   2.0   1.0  ...            11.75            0.0       1.0   \n",
      "4              0.0   3.0   1.0  ...            12.00            0.0       0.0   \n",
      "5              0.0   3.0   1.0  ...            13.00            0.0       1.0   \n",
      "\n",
      "   family_stability  schoolsup  activities  famsup  parent_job_prestige  Fjob  \\\n",
      "1               6.0        0.0         0.0     1.0                  3.5   2.0   \n",
      "2               6.0        1.0         0.0     0.0                  3.5   2.0   \n",
      "3               4.0        0.0         1.0     1.0                  2.5   3.0   \n",
      "4               5.0        0.0         0.0     1.0                  3.0   2.0   \n",
      "5               7.0        0.0         1.0     1.0                  2.0   2.0   \n",
      "\n",
      "   target  \n",
      "1    11.0  \n",
      "2    12.0  \n",
      "3    14.0  \n",
      "4    13.0  \n",
      "5    13.0  \n",
      "\n",
      "[5 rows x 43 columns]\n"
     ]
    },
    {
     "name": "stderr",
     "output_type": "stream",
     "text": [
      "\n"
     ]
    }
   ],
   "source": [
    "df = pd.read_csv('new_features.csv')\n",
    "\n",
    "x = df.drop(columns=['target', 'studytime', 'Mjob', 'paid', 'romantic', 'age', 'is_male', 'failures',\n",
    "                    'low_parent_edu', 'at_risk_student', 'famrel', 'dedicated_student', 'social_vs_study'])\n",
    "y = df['target']\n",
    "\n",
    "df_smogn = x.copy()\n",
    "df_smogn['target'] = y\n",
    "\n",
    "df_bal = smogn.smoter(\n",
    "    data=df_smogn,\n",
    "    y='target',               \n",
    "    k=5,                      \n",
    "    samp_method='extreme'     \n",
    ")\n",
    "\n",
    "print(df_bal.head())"
   ]
  },
  {
   "cell_type": "code",
   "execution_count": 4,
   "id": "f0eb6ea4-3788-4b40-adfa-54cc080d62db",
   "metadata": {},
   "outputs": [],
   "source": [
    "df_bal.to_csv('smogn.csv', index=False)"
   ]
  },
  {
   "cell_type": "code",
   "execution_count": null,
   "id": "ba4f65d5-c2a5-4a00-b07b-7029c1d6f5e6",
   "metadata": {},
   "outputs": [],
   "source": []
  }
 ],
 "metadata": {
  "kernelspec": {
   "display_name": "Python 3 (ipykernel)",
   "language": "python",
   "name": "python3"
  },
  "language_info": {
   "codemirror_mode": {
    "name": "ipython",
    "version": 3
   },
   "file_extension": ".py",
   "mimetype": "text/x-python",
   "name": "python",
   "nbconvert_exporter": "python",
   "pygments_lexer": "ipython3",
   "version": "3.10.12"
  }
 },
 "nbformat": 4,
 "nbformat_minor": 5
}
