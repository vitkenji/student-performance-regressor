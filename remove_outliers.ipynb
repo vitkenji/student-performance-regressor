{
 "cells": [
  {
   "cell_type": "code",
   "execution_count": 14,
   "id": "6f1f4701-acbf-4486-b3bd-1b1096afd89b",
   "metadata": {},
   "outputs": [
    {
     "name": "stdout",
     "output_type": "stream",
     "text": [
      "1111\n",
      "   age_failure_interaction  academic_commitment  higher  \\\n",
      "0                     17.0                 11.8     1.0   \n",
      "1                     15.0                 11.4     1.0   \n",
      "2                     15.0                 14.0     1.0   \n",
      "3                     16.0                 12.0     1.0   \n",
      "4                     16.0                 11.4     1.0   \n",
      "\n",
      "   socioeconomic_advantage  studytime_normalized  parents_avg_edu  Medu  \\\n",
      "0                      6.0              0.083588              1.0   1.0   \n",
      "1                      6.0              0.083588              1.0   1.0   \n",
      "2                      8.0              1.289120              3.0   4.0   \n",
      "3                      6.0              0.083588              3.0   3.0   \n",
      "4                      8.5              0.083588              3.5   4.0   \n",
      "\n",
      "   behavioral_risk  Fedu  Dalc  ...  wellbeing_score  health_issues  guardian  \\\n",
      "0              0.0   1.0   1.0  ...            11.75            0.0       0.0   \n",
      "1              0.0   1.0   2.0  ...             8.75            0.0       1.0   \n",
      "2              1.0   2.0   1.0  ...            11.75            0.0       1.0   \n",
      "3              0.0   3.0   1.0  ...            12.00            0.0       0.0   \n",
      "4              0.0   3.0   1.0  ...            13.00            0.0       1.0   \n",
      "\n",
      "   family_stability  schoolsup  activities  famsup  parent_job_prestige  Fjob  \\\n",
      "0               6.0        0.0         0.0     1.0                  3.5   2.0   \n",
      "1               6.0        1.0         0.0     0.0                  3.5   2.0   \n",
      "2               4.0        0.0         1.0     1.0                  2.5   3.0   \n",
      "3               5.0        0.0         0.0     1.0                  3.0   2.0   \n",
      "4               7.0        0.0         1.0     1.0                  2.0   2.0   \n",
      "\n",
      "   target  \n",
      "0    11.0  \n",
      "1    12.0  \n",
      "2    14.0  \n",
      "3    13.0  \n",
      "4    13.0  \n",
      "\n",
      "[5 rows x 43 columns]\n"
     ]
    }
   ],
   "source": [
    "import pandas as pd\n",
    "\n",
    "df = pd.read_csv('smogn.csv')\n",
    "original = pd.read_csv('new_features.csv')\n",
    "print(len(df))\n",
    "print(df.head())"
   ]
  },
  {
   "cell_type": "code",
   "execution_count": 15,
   "id": "3762e65b-8c65-4282-9d23-3b4b55594b40",
   "metadata": {},
   "outputs": [],
   "source": [
    "Q1 = original['target'].quantile(0.25)\n",
    "Q3 = original['target'].quantile(0.75)\n",
    "\n",
    "IQR = Q3 - Q1\n",
    "\n",
    "lower = Q1 - 1.5 * IQR\n",
    "upper = Q3 + 1.5 * IQR\n"
   ]
  },
  {
   "cell_type": "code",
   "execution_count": 16,
   "id": "4be8a9f1-f15f-4d0c-ba6b-df9d2f77dd17",
   "metadata": {},
   "outputs": [
    {
     "name": "stdout",
     "output_type": "stream",
     "text": [
      "4.0\n",
      "10.0\n",
      "14.0\n",
      "4.0\n",
      "20.0\n",
      "1111\n"
     ]
    }
   ],
   "source": [
    "print(IQR)\n",
    "print(Q1)\n",
    "print(Q3)\n",
    "print(lower)\n",
    "print(upper)"
   ]
  },
  {
   "cell_type": "code",
   "execution_count": 17,
   "id": "ee0ab864-3cfa-48dd-8f6f-f057fbd999ef",
   "metadata": {},
   "outputs": [],
   "source": [
    "df_iqr = df[(df['target'] >= lower) & (df['target'] <= upper)]"
   ]
  },
  {
   "cell_type": "code",
   "execution_count": 18,
   "id": "65f99586-7c39-495b-8462-7ad346b9948e",
   "metadata": {},
   "outputs": [
    {
     "name": "stdout",
     "output_type": "stream",
     "text": [
      "961\n"
     ]
    }
   ],
   "source": [
    "print(len(df_iqr))"
   ]
  },
  {
   "cell_type": "code",
   "execution_count": 19,
   "id": "6e2eca71-6362-493c-a2ff-0f28304d1bb1",
   "metadata": {},
   "outputs": [],
   "source": [
    "df_iqr.to_csv('no_outliers.csv')"
   ]
  },
  {
   "cell_type": "code",
   "execution_count": null,
   "id": "0ea31f74-386e-4c53-af50-1d14676e2191",
   "metadata": {},
   "outputs": [],
   "source": []
  }
 ],
 "metadata": {
  "kernelspec": {
   "display_name": "Python 3 (ipykernel)",
   "language": "python",
   "name": "python3"
  },
  "language_info": {
   "codemirror_mode": {
    "name": "ipython",
    "version": 3
   },
   "file_extension": ".py",
   "mimetype": "text/x-python",
   "name": "python",
   "nbconvert_exporter": "python",
   "pygments_lexer": "ipython3",
   "version": "3.10.12"
  }
 },
 "nbformat": 4,
 "nbformat_minor": 5
}
