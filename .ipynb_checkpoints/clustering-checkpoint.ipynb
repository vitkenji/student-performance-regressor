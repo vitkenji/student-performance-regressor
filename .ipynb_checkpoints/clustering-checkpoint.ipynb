{
 "cells": [
  {
   "cell_type": "code",
   "execution_count": 4,
   "id": "2853ac7e-0e0b-4287-8a81-b0860ca35f6e",
   "metadata": {},
   "outputs": [
    {
     "ename": "NameError",
     "evalue": "name 'plt' is not defined",
     "output_type": "error",
     "traceback": [
      "\u001b[0;31m---------------------------------------------------------------------------\u001b[0m",
      "\u001b[0;31mNameError\u001b[0m                                 Traceback (most recent call last)",
      "Cell \u001b[0;32mIn[4], line 26\u001b[0m\n\u001b[1;32m     23\u001b[0m     inertia\u001b[38;5;241m.\u001b[39mappend(kmeans_model\u001b[38;5;241m.\u001b[39minertia_)\n\u001b[1;32m     25\u001b[0m \u001b[38;5;66;03m#plotar o gráfico do cotovelo para visualizar o k ideal\u001b[39;00m\n\u001b[0;32m---> 26\u001b[0m \u001b[43mplt\u001b[49m\u001b[38;5;241m.\u001b[39mfigure(figsize\u001b[38;5;241m=\u001b[39m(\u001b[38;5;241m10\u001b[39m, \u001b[38;5;241m6\u001b[39m))\n\u001b[1;32m     27\u001b[0m plt\u001b[38;5;241m.\u001b[39mplot(K_range, inertia, marker\u001b[38;5;241m=\u001b[39m\u001b[38;5;124m'\u001b[39m\u001b[38;5;124mo\u001b[39m\u001b[38;5;124m'\u001b[39m, linestyle\u001b[38;5;241m=\u001b[39m\u001b[38;5;124m'\u001b[39m\u001b[38;5;124m--\u001b[39m\u001b[38;5;124m'\u001b[39m)\n\u001b[1;32m     28\u001b[0m plt\u001b[38;5;241m.\u001b[39mxlabel(\u001b[38;5;124m'\u001b[39m\u001b[38;5;124mNúmero de Clusters (k)\u001b[39m\u001b[38;5;124m'\u001b[39m)\n",
      "\u001b[0;31mNameError\u001b[0m: name 'plt' is not defined"
     ]
    }
   ],
   "source": [
    "import pandas as pd\n",
    "from sklearn.preprocessing import StandardScaler\n",
    "from sklearn.cluster import KMeans\n",
    "import matplotlib.pyplot as plt\n",
    "\n",
    "#força o pandas a exibir todas as colunas de um DataFrame\n",
    "pd.set_option('display.max_columns', None)\n",
    "\n",
    "df = pd.read_csv('features.csv')\n",
    "\n",
    "df_processed = df.copy()\n",
    "\n",
    "#normalização dos Dados\n",
    "scaler = StandardScaler()\n",
    "data_scaled = scaler.fit_transform(df_processed)\n",
    "\n",
    "#Método do Cotovelo\n",
    "inertia = []\n",
    "K_range = range(1, 11)  \n",
    "\n",
    "for k in K_range:\n",
    "    kmeans_model = KMeans(n_clusters=k, random_state=42, n_init=10)\n",
    "    kmeans_model.fit(data_scaled)\n",
    "    inertia.append(kmeans_model.inertia_)\n",
    "\n",
    "#plotar o gráfico do cotovelo para visualizar o k ideal\n",
    "plt.figure(figsize=(10, 6))\n",
    "plt.plot(K_range, inertia, marker='o', linestyle='--')\n",
    "plt.xlabel('Número de Clusters (k)')\n",
    "plt.ylabel('Inércia')\n",
    "plt.title('Método do Cotovelo para Encontrar o k Ideal')\n",
    "plt.grid(True)\n",
    "plt.savefig('elbow_method.png')\n",
    "\n",
    "K_IDEAL = 4\n",
    "\n",
    "#aplicar o Kmeans\n",
    "kmeans = KMeans(n_clusters=K_IDEAL, random_state=42, n_init=10)\n",
    "kmeans.fit(data_scaled)\n",
    "\n",
    "#nova coluna com o cluster de cada aluno.\n",
    "df['cluster'] = kmeans.labels_\n",
    "\n",
    "#calculando a média de todos atributos para cada grupo\n",
    "cluster_analysis = df.groupby('cluster').mean()\n",
    "\n",
    "print(\"\\n--- Análise dos Perfis de Alunos por Cluster ---\")\n",
    "print(cluster_analysis.round(2))\n",
    "\n",
    "#criar gráfico\n",
    "plt.figure(figsize=(8, 5))\n",
    "sns.countplot(x='cluster', data=df, palette='viridis')\n",
    "plt.title('Distribuição de Alunos por Cluster')\n",
    "plt.xlabel('Cluster (Perfil do Aluno)')\n",
    "plt.ylabel('Número de Alunos')\n",
    "plt.grid(axis='y', linestyle='--', alpha=0.7)\n",
    "plt.savefig('cluster_distribution.png') "
   ]
  },
  {
   "cell_type": "code",
   "execution_count": null,
   "id": "7f1a794e-aded-42ff-8254-85eebf7cd11d",
   "metadata": {},
   "outputs": [],
   "source": []
  }
 ],
 "metadata": {
  "kernelspec": {
   "display_name": "Python 3 (ipykernel)",
   "language": "python",
   "name": "python3"
  },
  "language_info": {
   "codemirror_mode": {
    "name": "ipython",
    "version": 3
   },
   "file_extension": ".py",
   "mimetype": "text/x-python",
   "name": "python",
   "nbconvert_exporter": "python",
   "pygments_lexer": "ipython3",
   "version": "3.10.12"
  }
 },
 "nbformat": 4,
 "nbformat_minor": 5
}
