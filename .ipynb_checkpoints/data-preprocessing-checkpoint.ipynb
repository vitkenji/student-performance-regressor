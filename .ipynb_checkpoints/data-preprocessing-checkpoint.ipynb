{
 "cells": [
  {
   "cell_type": "code",
   "execution_count": 58,
   "id": "840cc235-7e5a-4555-be6c-dc906542a00a",
   "metadata": {},
   "outputs": [],
   "source": [
    "from ucimlrepo import fetch_ucirepo\n",
    "import pandas as pd\n",
    "from sklearn.preprocessing import LabelEncoder\n",
    "\n",
    "student_performance = fetch_ucirepo(id=320)\n",
    "\n",
    "df = pd.DataFrame(student_performance.data.features, columns=student_performance.feature_names)\n",
    "df['target'] = student_performance.data.targets['G3']"
   ]
  },
  {
   "cell_type": "code",
   "execution_count": 60,
   "id": "c19b8fa5-09bf-4d2c-a833-99959ab9921c",
   "metadata": {},
   "outputs": [],
   "source": [
    "#converter colunas binárias para 1 e 0\n",
    "\n",
    "df['internet'] = df['internet'].map({'yes': 1, 'no': 0})\n",
    "df['romantic'] = df['romantic'].map({'yes': 1, 'no': 0})\n",
    "df['nursery'] = df['nursery'].map({'yes': 1, 'no': 0})\n",
    "df['activities'] = df['activities'].map({'yes': 1, 'no': 0})\n",
    "df['schoolsup'] = df['schoolsup'].map({'yes': 1, 'no': 0})\n",
    "df['famsup'] = df['famsup'].map({'yes': 1, 'no': 0})\n",
    "df['paid'] = df['paid'].map({'yes': 1, 'no': 0})\n",
    "df['higher'] = df['higher'].map({'yes' : 1, 'no': 0})"
   ]
  },
  {
   "cell_type": "code",
   "execution_count": 61,
   "id": "f64cd40d-3dee-451c-850b-2ceb2b262231",
   "metadata": {},
   "outputs": [],
   "source": [
    "#outras conversões\n",
    "\n",
    "df['is_male'] = df['sex'].map({'M': 1, 'F': 0})\n",
    "df['urban_address'] = df['address'].map({'U': 1, 'R': 0})\n",
    "df['big_family'] = df['famsize'].map({'GT3': 1, 'LE3': 0})\n",
    "df['Pstatus'] = df['Pstatus'].map({'T': 1, 'A': 0})\n",
    "\n",
    "df['Mjob'] = LabelEncoder().fit_transform(df['Mjob'])\n",
    "df['Fjob'] = LabelEncoder().fit_transform(df['Fjob'])\n",
    "df['guardian'] = LabelEncoder().fit_transform(df['guardian'])"
   ]
  },
  {
   "cell_type": "code",
   "execution_count": 62,
   "id": "91e65772-c2ae-4ec8-ba73-b0b06b9fc244",
   "metadata": {},
   "outputs": [],
   "source": [
    "#remover colunas provavelmente desnecessárias\n",
    "\n",
    "df = df.drop(columns=['school', 'reason', 'sex', 'address', 'famsize'], axis=1)"
   ]
  },
  {
   "cell_type": "code",
   "execution_count": 63,
   "id": "94d6c119-c540-4cc0-bbf4-a123319cee5f",
   "metadata": {},
   "outputs": [
    {
     "name": "stdout",
     "output_type": "stream",
     "text": [
      "     age  Pstatus  Medu  Fedu  Mjob  Fjob  guardian  traveltime  studytime  \\\n",
      "0     18        0     4     4     0     4         1           2          2   \n",
      "1     17        1     1     1     0     2         0           1          2   \n",
      "2     15        1     1     1     0     2         1           1          2   \n",
      "3     15        1     4     2     1     3         1           1          3   \n",
      "4     16        1     3     3     2     2         0           1          2   \n",
      "..   ...      ...   ...   ...   ...   ...       ...         ...        ...   \n",
      "644   19        1     2     3     3     2         1           1          3   \n",
      "645   18        1     3     1     4     3         1           1          2   \n",
      "646   18        1     1     1     2     2         1           2          2   \n",
      "647   17        1     3     1     3     3         1           2          1   \n",
      "648   18        1     3     2     3     2         1           3          1   \n",
      "\n",
      "     failures  ...  freetime  goout  Dalc  Walc  health  absences  target  \\\n",
      "0           0  ...         3      4     1     1       3         4      11   \n",
      "1           0  ...         3      3     1     1       3         2      11   \n",
      "2           0  ...         3      2     2     3       3         6      12   \n",
      "3           0  ...         2      2     1     1       5         0      14   \n",
      "4           0  ...         3      2     1     2       5         0      13   \n",
      "..        ...  ...       ...    ...   ...   ...     ...       ...     ...   \n",
      "644         1  ...         4      2     1     2       5         4      10   \n",
      "645         0  ...         3      4     1     1       1         4      16   \n",
      "646         0  ...         1      1     1     1       5         6       9   \n",
      "647         0  ...         4      5     3     4       2         6      10   \n",
      "648         0  ...         4      1     3     4       5         4      11   \n",
      "\n",
      "     is_male  urban_address  big_family  \n",
      "0          0              1           1  \n",
      "1          0              1           1  \n",
      "2          0              1           0  \n",
      "3          0              1           1  \n",
      "4          0              1           1  \n",
      "..       ...            ...         ...  \n",
      "644        0              0           1  \n",
      "645        0              1           0  \n",
      "646        0              1           1  \n",
      "647        1              1           0  \n",
      "648        1              0           0  \n",
      "\n",
      "[649 rows x 29 columns]\n",
      "Index(['age', 'Pstatus', 'Medu', 'Fedu', 'Mjob', 'Fjob', 'guardian',\n",
      "       'traveltime', 'studytime', 'failures', 'schoolsup', 'famsup', 'paid',\n",
      "       'activities', 'nursery', 'higher', 'internet', 'romantic', 'famrel',\n",
      "       'freetime', 'goout', 'Dalc', 'Walc', 'health', 'absences', 'target',\n",
      "       'is_male', 'urban_address', 'big_family'],\n",
      "      dtype='object')\n"
     ]
    }
   ],
   "source": [
    "print(df)\n",
    "print(df.columns)"
   ]
  }
 ],
 "metadata": {
  "kernelspec": {
   "display_name": "Python 3 (ipykernel)",
   "language": "python",
   "name": "python3"
  },
  "language_info": {
   "codemirror_mode": {
    "name": "ipython",
    "version": 3
   },
   "file_extension": ".py",
   "mimetype": "text/x-python",
   "name": "python",
   "nbconvert_exporter": "python",
   "pygments_lexer": "ipython3",
   "version": "3.10.12"
  }
 },
 "nbformat": 4,
 "nbformat_minor": 5
}
