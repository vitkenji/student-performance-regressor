{
 "cells": [
  {
   "cell_type": "code",
   "execution_count": 1,
   "id": "9c50f302-b463-412b-8f10-a093fbfaef15",
   "metadata": {},
   "outputs": [],
   "source": [
    "import pandas as pd\n",
    "from sklearn.model_selection import train_test_split, GridSearchCV\n",
    "from sklearn.ensemble import RandomForestRegressor\n",
    "from sklearn.metrics import mean_squared_error, r2_score\n",
    "from sklearn.inspection import permutation_importance\n",
    "import matplotlib.pyplot as plt\n",
    "import smogn"
   ]
  },
  {
   "cell_type": "code",
   "execution_count": 4,
   "id": "2462c757-ba07-4730-98d3-ce4e69a6fe0c",
   "metadata": {},
   "outputs": [
    {
     "name": "stderr",
     "output_type": "stream",
     "text": [
      "dist_matrix: 100%|#############################| 55/55 [00:00<00:00, 108.15it/s]\n",
      "synth_matrix: 100%|############################| 55/55 [00:00<00:00, 117.00it/s]\n",
      "r_index: 100%|#################################| 27/27 [00:00<00:00, 705.65it/s]\n"
     ]
    }
   ],
   "source": [
    "df = pd.read_csv('features.csv')\n",
    "x = df.drop(columns=['target', 'Medu', 'health', 'Dalc', 'Walc', 'traveltime', 'Mjob', 'internet',\n",
    "                     'Pstatus', 'goout', 'Fjob', 'guardian', 'activities'], axis=1)\n",
    "y = df['target']\n",
    "\n",
    "X_train, X_test, y_train, y_test = train_test_split(x, y, test_size=0.2, random_state=42)\n",
    "X_train = X_train.reset_index(drop=True)\n",
    "y_train = y_train.reset_index(drop=True)\n",
    "\n",
    "df_train = X_train.copy()\n",
    "df_train['target'] = y_train\n",
    "\n",
    "df_train_bal = smogn.smoter(\n",
    "    data=df_train,\n",
    "    y='target',\n",
    "    k=5,\n",
    "    samp_method='extreme'\n",
    ")\n",
    "\n",
    "X_train_smogn = df_train_bal.drop(columns='target')\n",
    "y_train_smogn = df_train_bal['target']"
   ]
  },
  {
   "cell_type": "code",
   "execution_count": 6,
   "id": "f459f121-b536-4247-8146-43ebbfd0db14",
   "metadata": {},
   "outputs": [
    {
     "name": "stdout",
     "output_type": "stream",
     "text": [
      "Fitting 5 folds for each of 192 candidates, totalling 960 fits\n",
      "Melhores parâmetros: {'bootstrap': True, 'max_depth': 10, 'max_features': 'sqrt', 'min_samples_leaf': 2, 'min_samples_split': 15, 'n_estimators': 30}\n",
      "Melhor score (CV): 0.2839\n"
     ]
    }
   ],
   "source": [
    "rf = RandomForestRegressor(random_state=42)\n",
    "\n",
    "param_grid = {\n",
    "    'n_estimators': [30,50,100,200],\n",
    "    'max_depth': [5,10,15,20],\n",
    "    'min_samples_split': [10, 15, 20],\n",
    "    'min_samples_leaf': [1, 2],\n",
    "    'max_features': ['sqrt', 'log2'],\n",
    "    'bootstrap': [True]\n",
    "}\n",
    "\n",
    "grid_search = GridSearchCV(rf, param_grid, cv=5, scoring='r2', n_jobs=-1, verbose=1)\n",
    "grid_search.fit(X_train, y_train)\n",
    "\n",
    "print(f'Melhores parâmetros: {grid_search.best_params_}')\n",
    "print(f'Melhor score (CV): {grid_search.best_score_:.4f}')"
   ]
  },
  {
   "cell_type": "code",
   "execution_count": null,
   "id": "2c227008-99dc-4abb-b41e-633b978f9582",
   "metadata": {},
   "outputs": [],
   "source": []
  },
  {
   "cell_type": "code",
   "execution_count": null,
   "id": "be7a8ef7-ba5f-4d20-ac5c-0f60870820c1",
   "metadata": {},
   "outputs": [],
   "source": []
  }
 ],
 "metadata": {
  "kernelspec": {
   "display_name": "Python 3 (ipykernel)",
   "language": "python",
   "name": "python3"
  },
  "language_info": {
   "codemirror_mode": {
    "name": "ipython",
    "version": 3
   },
   "file_extension": ".py",
   "mimetype": "text/x-python",
   "name": "python",
   "nbconvert_exporter": "python",
   "pygments_lexer": "ipython3",
   "version": "3.10.12"
  }
 },
 "nbformat": 4,
 "nbformat_minor": 5
}
